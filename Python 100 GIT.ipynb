{
 "cells": [
  {
   "cell_type": "markdown",
   "metadata": {},
   "source": [
    "# Question1:\n",
    "**Write a program which will find all such numbers which are divisible by 7 but are not a multiple of 5,\n",
    "between 2000 and 3200 (both included).\n",
    "The numbers obtained should be printed in a comma-separated sequence on a single line.**"
   ]
  },
  {
   "cell_type": "code",
   "execution_count": 1,
   "metadata": {
    "scrolled": true
   },
   "outputs": [
    {
     "name": "stdout",
     "output_type": "stream",
     "text": [
      "2002,2009,2016,2023,2037,2044,2051,2058,2072,2079,2086,2093,2107,2114,2121,2128,2142,2149,2156,2163,2177,2184,2191,2198,2212,2219,2226,2233,2247,2254,2261,2268,2282,2289,2296,2303,2317,2324,2331,2338,2352,2359,2366,2373,2387,2394,2401,2408,2422,2429,2436,2443,2457,2464,2471,2478,2492,2499,2506,2513,2527,2534,2541,2548,2562,2569,2576,2583,2597,2604,2611,2618,2632,2639,2646,2653,2667,2674,2681,2688,2702,2709,2716,2723,2737,2744,2751,2758,2772,2779,2786,2793,2807,2814,2821,2828,2842,2849,2856,2863,2877,2884,2891,2898,2912,2919,2926,2933,2947,2954,2961,2968,2982,2989,2996,3003,3017,3024,3031,3038,3052,3059,3066,3073,3087,3094,3101,3108,3122,3129,3136,3143,3157,3164,3171,3178,3192,3199\n"
     ]
    }
   ],
   "source": [
    "l=[]\n",
    "for i in range(2000, 3201):\n",
    "    if (i%7==0) and (i%5!=0):\n",
    "        l.append(str(i))\n",
    "\n",
    "print(','.join(l))\n",
    "        "
   ]
  },
  {
   "cell_type": "markdown",
   "metadata": {},
   "source": [
    "# Question2:\n",
    "**Write a program which can compute the factorial of a given numbers.\n",
    "The results should be printed in a comma-separated sequence on a single line.\n",
    "Suppose the following input is supplied to the program:\n",
    "8\n",
    "Then, the output should be:\n",
    "40320**"
   ]
  },
  {
   "cell_type": "code",
   "execution_count": 2,
   "metadata": {},
   "outputs": [
    {
     "name": "stdout",
     "output_type": "stream",
     "text": [
      "Please enter the list of numbers separated by space for which you would want to know the factorials.\n",
      "10,5,2\n",
      "[3628800, 120, 2]\n"
     ]
    }
   ],
   "source": [
    "def fact(n):\n",
    "    factorial=1\n",
    "    for i in range(1,n+1):\n",
    "        factorial=factorial*i\n",
    "    return(factorial)\n",
    "  \n",
    "print(\"Please enter the list of numbers separated by space for which you would want to know the factorials.\")\n",
    "a=input()\n",
    "l=list(a.split(','))\n",
    "p= list(filter(lambda x:x.isnumeric(),l))\n",
    "r=list(map(int, p))\n",
    "j= list(map(fact,r))\n",
    "print(j)"
   ]
  },
  {
   "cell_type": "markdown",
   "metadata": {},
   "source": [
    "# Question3:\n",
    "**Question:\n",
    "With a given integral number n, write a program to generate a dictionary that contains (i, i*i) such that is an integral number between 1 and n (both included). and then the program should print the dictionary.\n",
    "Suppose the following input is supplied to the program:\n",
    "8\n",
    "Then, the output should be:\n",
    "{1: 1, 2: 4, 3: 9, 4: 16, 5: 25, 6: 36, 7: 49, 8: 64}**\n"
   ]
  },
  {
   "cell_type": "code",
   "execution_count": 26,
   "metadata": {},
   "outputs": [
    {
     "name": "stdout",
     "output_type": "stream",
     "text": [
      "{1: 1, 2: 4, 3: 9, 4: 16, 5: 25, 6: 36, 7: 49, 8: 64, 9: 81}\n",
      "{1: 1, 2: 4, 3: 9, 4: 16, 5: 25, 6: 36, 7: 49, 8: 64, 9: 81}\n"
     ]
    }
   ],
   "source": [
    "a=dict()\n",
    "i=1\n",
    "for i in range(1,10):\n",
    "       a[i]=i*i\n",
    "print(a)\n",
    "\n",
    "#OR\n",
    "\n",
    "b={}\n",
    "i=1\n",
    "for i in range(1,10):\n",
    "    b.update({i:i*i})\n",
    "print(b)    "
   ]
  },
  {
   "cell_type": "markdown",
   "metadata": {},
   "source": [
    "# Question4:\n",
    "**Define a class which has at least two methods:\n",
    "getString: to get a string from console input\n",
    "printString: to print the string in upper case.\n",
    "Also please include simple test function to test the class methods.**"
   ]
  },
  {
   "cell_type": "code",
   "execution_count": null,
   "metadata": {},
   "outputs": [],
   "source": [
    "#This is just for learning.\n",
    "class vamsi:\n",
    "    def __init__(self,a,b):\n",
    "        self.a=a \n",
    "        self.b=b \n",
    "        print(a+b)\n",
    "    def mul(self,c):\n",
    "        print(self.a*self.b*c)\n",
    "o=vamsi(10,20)\n",
    "o.mul(10)\n",
    "#print(o)\n",
    "\n",
    "class Person:\n",
    "  def __init__(mysillyobject, name, age):\n",
    "    mysillyobject.name = name\n",
    "    mysillyobject.age = age\n",
    "\n",
    "  def myfunc(abc):\n",
    "    print(\"Hello my name is \" + abc.name)\n",
    "\n",
    "p1 = Person(\"John\", 36)\n",
    "p1.myfunc() \n"
   ]
  },
  {
   "cell_type": "code",
   "execution_count": 3,
   "metadata": {
    "scrolled": true
   },
   "outputs": [
    {
     "name": "stdout",
     "output_type": "stream",
     "text": [
      "Enter a string:\n",
      "vamsi\n",
      "The inputed string is : VAMSI\n"
     ]
    }
   ],
   "source": [
    "\n",
    "class vamsi:\n",
    "    def __init__(self):\n",
    "        self.s=\"\"\n",
    "        \n",
    "    def getString(self):\n",
    "        print(\"Enter a string:\")\n",
    "        self.s=input()\n",
    "    def printString(self):\n",
    "        print(\"The inputed string is :\",self.s.upper())\n",
    "o=vamsi()\n",
    "o.getString()\n",
    "o.printString()\n"
   ]
  },
  {
   "cell_type": "markdown",
   "metadata": {},
   "source": [
    "# Question5:\n",
    "\n",
    "**Question: 6\n",
    "Write a program that calculates and prints the value according to the given formula:\n",
    "Q = Square root of [(2 * C * D)/H]\n",
    "Following are the fixed values of C and H:\n",
    "C is 50. H is 30.\n",
    "D is the variable whose values should be input to your program in a comma-separated sequence.\n",
    "Example\n",
    "Let us assume the following comma separated input sequence is given to the program:\n",
    "100,150,180\n",
    "The output of the program should be:\n",
    "18,22,24**\n"
   ]
  },
  {
   "cell_type": "code",
   "execution_count": 31,
   "metadata": {},
   "outputs": [
    {
     "name": "stdout",
     "output_type": "stream",
     "text": [
      "Enter some values\n",
      "100,150\n",
      "[18, 22]\n"
     ]
    }
   ],
   "source": [
    "import math\n",
    "def cal(d):\n",
    "    c=50\n",
    "    h=30\n",
    "    q=math.sqrt((2*c*d)/h)\n",
    "    return(round(q))\n",
    "print(\"Enter some values\")\n",
    "i=input()\n",
    "a=i.split(',')\n",
    "p=list(filter(lambda x:x.isnumeric(),a))\n",
    "q=list(map(int,p))\n",
    "res=list(map(cal,q))\n",
    "print(res)\n"
   ]
  },
  {
   "cell_type": "markdown",
   "metadata": {},
   "source": [
    "# Question 7\n",
    "**Level 2\n",
    "Question:\n",
    "Write a program which takes 2 digits, X,Y as input and generates a 2-dimensional array. The element value in the i-th row and j-th column of the array should be i*j.\n",
    "Note: i=0,1.., X-1; j=0,1,¡­Y-1.\n",
    "Example\n",
    "Suppose the following inputs are given to the program:\n",
    "3,5\n",
    "Then, the output of the program should be:\n",
    "[[0, 0, 0, 0, 0], [0, 1, 2, 3, 4], [0, 2, 4, 6, 8]] **"
   ]
  },
  {
   "cell_type": "code",
   "execution_count": 36,
   "metadata": {
    "scrolled": true
   },
   "outputs": [
    {
     "name": "stdout",
     "output_type": "stream",
     "text": [
      "[[0, 0, 0, 0, 0], [0, 1, 2, 3, 4], [0, 2, 4, 6, 8]]\n"
     ]
    }
   ],
   "source": [
    "rows=3\n",
    "col=5\n",
    "nlist = [[col*row for col in range(col)] for row in range(rows)]\n",
    "print(nlist)  "
   ]
  },
  {
   "cell_type": "markdown",
   "metadata": {},
   "source": [
    "# Question 8\n",
    "**Level 2\n",
    "Question:\n",
    "Write a program that accepts a comma separated sequence of words as input and prints the words in a comma-separated sequence after sorting them alphabetically.\n",
    "Suppose the following input is supplied to the program:\n",
    "without,hello,bag,world\n",
    "Then, the output should be:\n",
    "bag,hello,without,world**"
   ]
  },
  {
   "cell_type": "code",
   "execution_count": 14,
   "metadata": {},
   "outputs": [
    {
     "name": "stdout",
     "output_type": "stream",
     "text": [
      "Enter some words:\n",
      "without,hello,bag,world\n",
      "bag,hello,without,world\n"
     ]
    }
   ],
   "source": [
    "print(\"Enter some words:\")\n",
    "s=input()\n",
    "a=s.split(',')\n",
    "a.sort()\n",
    "print(','.join(a)) #to make a list into string"
   ]
  },
  {
   "cell_type": "markdown",
   "metadata": {},
   "source": [
    "# Question 9\n",
    "**Level 2\n",
    "Write a program that accepts sequence of lines as input and prints the lines after making all characters in the sentence capitalized.\n",
    "Suppose the following input is supplied to the program:\n",
    "Hello world\n",
    "Practice makes perfect\n",
    "Then, the output should be:\n",
    "HELLO WORLD\n",
    "PRACTICE MAKES PERFECT**"
   ]
  },
  {
   "cell_type": "code",
   "execution_count": 24,
   "metadata": {},
   "outputs": [
    {
     "name": "stdout",
     "output_type": "stream",
     "text": [
      "Enter the no. of lines you want to enter:\n",
      "2\n",
      "Hello world\n",
      "Practice makes perfect\n",
      "HELLO WORLD\n",
      "PRACTICE MAKES PERFECT\n",
      "\n"
     ]
    }
   ],
   "source": [
    "print(\"Enter the no. of lines you want to enter:\")\n",
    "n=int(input())\n",
    "a=\"\"\n",
    "for i in range(n):\n",
    "    a=a+input()+\"\\n\"    \n",
    "print(a.upper())"
   ]
  },
  {
   "cell_type": "markdown",
   "metadata": {},
   "source": [
    "# Question 10\n",
    "**Level 2\n",
    "Question:\n",
    "Write a program that accepts a sequence of whitespace separated words as input and prints the words after removing all duplicate words and sorting them alphanumerically.\n",
    "Suppose the following input is supplied to the program:\n",
    "hello world and practice makes perfect and hello world again\n",
    "Then, the output should be:\n",
    "again and hello makes perfect practice world.**"
   ]
  },
  {
   "cell_type": "code",
   "execution_count": 11,
   "metadata": {},
   "outputs": [
    {
     "name": "stdout",
     "output_type": "stream",
     "text": [
      "Enter a sequence of values:\n",
      "hello world and practice makes perfect and hello world again\n",
      "again and hello makes perfect practice world\n"
     ]
    }
   ],
   "source": [
    "print(\"Enter a sequence of values:\")\n",
    "a= input()\n",
    "s=a.split(' ')\n",
    "s.sort()\n",
    "for index,word in enumerate (s):\n",
    "        if(s[index]==s[index+1]):    \n",
    "            s.pop(index)\n",
    "print(' '.join(s))\n",
    "#\" \".join(sorted(list(set(words)))) can also be used"
   ]
  },
  {
   "cell_type": "markdown",
   "metadata": {},
   "source": [
    "# Question 11\n",
    "**Level 2\n",
    "Question:\n",
    "Write a program which accepts a sequence of comma separated 4 digit binary numbers as its input and then check whether they are divisible by 5 or not. The numbers that are divisible by 5 are to be printed in a comma separated sequence.\n",
    "Example:\n",
    "0100,0011,1010,1001\n",
    "Then the output should be:\n",
    "1010\n",
    "Notes: Assume the data is input by console.**"
   ]
  },
  {
   "cell_type": "code",
   "execution_count": 10,
   "metadata": {},
   "outputs": [
    {
     "name": "stdout",
     "output_type": "stream",
     "text": [
      "Enter 4digit binary numbers separated by comma :\n",
      "0100,0011,1010,1001\n",
      "1010\n"
     ]
    }
   ],
   "source": [
    "import math\n",
    "print(\"Enter 4digit binary numbers separated by comma :\")\n",
    "a=list(input().split(','))\n",
    "def binary(b):\n",
    "    c=0.0\n",
    "    l=list(b)\n",
    "    inp=l[::-1]\n",
    "    for index,val in enumerate(inp):\n",
    "        c=c+(int(val)*math.pow(2,index))\n",
    "    if c%5==0:\n",
    "        return(b)\n",
    "bin=','.join(list(filter(binary,a)))\n",
    "print(bin)"
   ]
  },
  {
   "cell_type": "markdown",
   "metadata": {},
   "source": [
    "# Question 12\n",
    "**Level 2\n",
    "Question:\n",
    "Write a program, which will find all such numbers between 1000 and 3000 (both included) such that each digit of the number is an even number.\n",
    "The numbers obtained should be printed in a comma-separated sequence on a single line.**\n"
   ]
  },
  {
   "cell_type": "code",
   "execution_count": 48,
   "metadata": {
    "scrolled": true
   },
   "outputs": [
    {
     "name": "stdout",
     "output_type": "stream",
     "text": [
      "2000,2002,2004,2006,2008,2020,2022,2024,2026,2028,2040,2042,2044,2046,2048,2060,2062,2064,2066,2068,2080,2082,2084,2086,2088,2200,2202,2204,2206,2208,2220,2222,2224,2226,2228,2240,2242,2244,2246,2248,2260,2262,2264,2266,2268,2280,2282,2284,2286,2288,2400,2402,2404,2406,2408,2420,2422,2424,2426,2428,2440,2442,2444,2446,2448,2460,2462,2464,2466,2468,2480,2482,2484,2486,2488,2600,2602,2604,2606,2608,2620,2622,2624,2626,2628,2640,2642,2644,2646,2648,2660,2662,2664,2666,2668,2680,2682,2684,2686,2688,2800,2802,2804,2806,2808,2820,2822,2824,2826,2828,2840,2842,2844,2846,2848,2860,2862,2864,2866,2868,2880,2882,2884,2886,2888\n"
     ]
    }
   ],
   "source": [
    "\n",
    "a=[]\n",
    "for j in range(1000,3001):\n",
    "     a.append(str(j))\n",
    "def even(val):\n",
    "    c=0\n",
    "    for i in val:\n",
    "        if int(i)%2==0:\n",
    "            c+=1\n",
    "    if c==4:\n",
    "        return(val)\n",
    "out=list(filter(even,a))\n",
    "print(','.join(out))"
   ]
  },
  {
   "cell_type": "markdown",
   "metadata": {},
   "source": [
    "# Question 13\n",
    "**Level 2\n",
    "Question:\n",
    "Write a program that accepts a sentence and calculate the number of letters and digits.\n",
    "Suppose the following input is supplied to the program:\n",
    "hello world! 123\n",
    "Then, the output should be:\n",
    "LETTERS 10\n",
    "DIGITS 3**"
   ]
  },
  {
   "cell_type": "code",
   "execution_count": 53,
   "metadata": {},
   "outputs": [
    {
     "name": "stdout",
     "output_type": "stream",
     "text": [
      "Enter a sentence:\n",
      "hello world! 123\n",
      "Letters 10 \n",
      "Digits 3\n"
     ]
    }
   ],
   "source": [
    "print(\"Enter a sentence:\")\n",
    "a=input()\n",
    "digits=0\n",
    "letters=0\n",
    "for i in(a):\n",
    "    if i.isnumeric():\n",
    "        digits+=1\n",
    "    if i.isalpha():\n",
    "        letters+=1\n",
    "print(\"Letters {} \\nDigits {}\".format(letters,digits))        "
   ]
  },
  {
   "cell_type": "markdown",
   "metadata": {},
   "source": [
    "# Question 14\n",
    "**Level 2\n",
    "Question:\n",
    "Write a program that accepts a sentence and calculate the number of upper case letters and lower case letters.\n",
    "Suppose the following input is supplied to the program:\n",
    "Hello world!\n",
    "Then, the output should be:\n",
    "UPPER CASE 1\n",
    "LOWER CASE 9**"
   ]
  },
  {
   "cell_type": "code",
   "execution_count": 55,
   "metadata": {},
   "outputs": [
    {
     "name": "stdout",
     "output_type": "stream",
     "text": [
      "Enter a sentence:\n",
      "Hello world!\n",
      "Uppercase 1 \n",
      "Lowercase 9\n"
     ]
    }
   ],
   "source": [
    "print(\"Enter a sentence:\")\n",
    "a=input()\n",
    "upper=0\n",
    "lower=0\n",
    "for i in(a):\n",
    "    if i.isupper():\n",
    "        upper+=1\n",
    "    if i.islower():\n",
    "        lower+=1\n",
    "print(\"Uppercase {} \\nLowercase {}\".format(upper,lower))   "
   ]
  },
  {
   "cell_type": "markdown",
   "metadata": {},
   "source": [
    "# Question 15\n",
    "**Level 2\n",
    "Question:\n",
    "Write a program that computes the value of a+aa+aaa+aaaa with a given digit as the value of a.\n",
    "Suppose the following input is supplied to the program:\n",
    "9\n",
    "Then, the output should be:\n",
    "11106**\n"
   ]
  },
  {
   "cell_type": "code",
   "execution_count": 63,
   "metadata": {},
   "outputs": [
    {
     "name": "stdout",
     "output_type": "stream",
     "text": [
      "Enter a digit:\n",
      "9\n",
      "11106\n"
     ]
    }
   ],
   "source": [
    "import functools\n",
    "print(\"Enter a digit:\")\n",
    "a=int(input())\n",
    "p=[str(a)*i for i in range(1,5)]\n",
    "val=functools.reduce(lambda a,b  :int(a)+int(b),p)\n",
    "print(val)"
   ]
  },
  {
   "cell_type": "code",
   "execution_count": 31,
   "metadata": {},
   "outputs": [
    {
     "name": "stdout",
     "output_type": "stream",
     "text": [
      "Enter your GMail username --> vkadimis\n",
      "Enter your password --> ········\n"
     ]
    }
   ],
   "source": [
    "import email, getpass, imaplib, os, re\n",
    "import matplotlib.pyplot as plt\n",
    "\n",
    "detach_dir = \"F:\\OTHERS\\CS\\PYTHONPROJECTS\"  \n",
    "user = input(\"Enter your GMail username --> \")\n",
    "pwd = getpass.getpass(\"Enter your password --> \")"
   ]
  },
  {
   "cell_type": "code",
   "execution_count": 45,
   "metadata": {},
   "outputs": [
    {
     "data": {
      "text/plain": [
       "('OK', [b'vkadimis@gmail.com authenticated (Success)'])"
      ]
     },
     "execution_count": 45,
     "metadata": {},
     "output_type": "execute_result"
    }
   ],
   "source": [
    "m = imaplib.IMAP4_SSL(\"imap.gmail.com\")\n",
    "m.login(user, pwd)\n"
   ]
  },
  {
   "cell_type": "code",
   "execution_count": 46,
   "metadata": {},
   "outputs": [],
   "source": [
    "m.select()\n",
    "resp, items = m.search(None, '(FROM \"raj.vamsi59@gmail.com\")')"
   ]
  },
  {
   "cell_type": "code",
   "execution_count": 47,
   "metadata": {},
   "outputs": [],
   "source": [
    "resp  = m.search(None, 'ALL')\n",
    "items = items[0].split()  \n",
    "\n",
    "my_msg = [] # store relevant msgs here in please\n",
    "msg_cnt = 0\n",
    "#print(m.search(None, '(FROM \"raj.vamsi59@gmail.com\")'))\n"
   ]
  },
  {
   "cell_type": "code",
   "execution_count": 37,
   "metadata": {},
   "outputs": [
    {
     "ename": "AttributeError",
     "evalue": "'NoneType' object has no attribute 'fetch'",
     "output_type": "error",
     "traceback": [
      "\u001b[1;31m---------------------------------------------------------------------------\u001b[0m",
      "\u001b[1;31mAttributeError\u001b[0m                            Traceback (most recent call last)",
      "\u001b[1;32m<ipython-input-37-212ae3f8428a>\u001b[0m in \u001b[0;36m<module>\u001b[1;34m\u001b[0m\n\u001b[0;32m      1\u001b[0m \u001b[1;32mfor\u001b[0m \u001b[0memailid\u001b[0m \u001b[1;32min\u001b[0m \u001b[0mitems\u001b[0m\u001b[1;33m:\u001b[0m\u001b[1;33m\u001b[0m\u001b[0m\n\u001b[1;32m----> 2\u001b[1;33m     \u001b[0mresp\u001b[0m\u001b[1;33m,\u001b[0m\u001b[0mdata\u001b[0m \u001b[1;33m=\u001b[0m \u001b[0mm\u001b[0m\u001b[1;33m.\u001b[0m\u001b[0mfetch\u001b[0m\u001b[1;33m(\u001b[0m\u001b[0memailid\u001b[0m\u001b[1;33m,\u001b[0m\u001b[1;34m\"(RFC822)\"\u001b[0m\u001b[1;33m)\u001b[0m\u001b[1;33m\u001b[0m\u001b[0m\n\u001b[0m\u001b[0;32m      3\u001b[0m     \u001b[1;32mfor\u001b[0m \u001b[0mresponse_part\u001b[0m \u001b[1;32min\u001b[0m \u001b[0mdata\u001b[0m\u001b[1;33m:\u001b[0m\u001b[1;33m\u001b[0m\u001b[0m\n\u001b[0;32m      4\u001b[0m         \u001b[1;32mtry\u001b[0m\u001b[1;33m:\u001b[0m\u001b[1;33m\u001b[0m\u001b[0m\n\u001b[0;32m      5\u001b[0m             \u001b[0mmsg\u001b[0m\u001b[1;33m=\u001b[0m\u001b[0memail\u001b[0m\u001b[1;33m.\u001b[0m\u001b[0mmessage_from_string\u001b[0m\u001b[1;33m(\u001b[0m\u001b[0mresponse_part\u001b[0m\u001b[1;33m[\u001b[0m\u001b[1;36m1\u001b[0m\u001b[1;33m]\u001b[0m\u001b[1;33m.\u001b[0m\u001b[0mdecode\u001b[0m\u001b[1;33m(\u001b[0m\u001b[1;34m'utf-8'\u001b[0m\u001b[1;33m)\u001b[0m\u001b[1;33m)\u001b[0m\u001b[1;33m\u001b[0m\u001b[0m\n",
      "\u001b[1;31mAttributeError\u001b[0m: 'NoneType' object has no attribute 'fetch'"
     ]
    }
   ],
   "source": [
    "for emailid in items:\n",
    "    resp,data = m.fetch(emailid,\"(RFC822)\")\n",
    "    for response_part in data:\n",
    "        try:\n",
    "            msg=email.message_from_string(response_part[1].decode('utf-8'))\n",
    "            \n",
    "            \n",
    "        except IndexError:\n",
    "            print(\"\")"
   ]
  },
  {
   "cell_type": "code",
   "execution_count": 43,
   "metadata": {
    "scrolled": true
   },
   "outputs": [
    {
     "name": "stdout",
     "output_type": "stream",
     "text": [
      "VAMSI MSG: [[<email.message.Message object at 0x000001918B26AE48>, (2019, 9, 11)]]\n",
      "Content-Type: text/plain; charset=\"UTF-8\"\n",
      "\n",
      "Hi,\n",
      "\n",
      "This is to test.\n",
      "\n",
      "Regards,\n",
      "Vamsi.\n",
      "\n",
      "--000000000000a784fe0592451870\n",
      "Content-Type: text/html; charset=\"UTF-8\"\n",
      "\n",
      "<div dir=\"ltr\"><div>Hi,</div><div><br></div><div>This is to test.</div><div><br></div><div>Regards,</div><div>Vamsi.<br></div></div>\n",
      "\n"
     ]
    }
   ],
   "source": [
    "cnt=0\n",
    "for emailid in items[::-1]:\n",
    "\n",
    "    resp, data = m.fetch(emailid, \"(RFC822)\")\n",
    "\n",
    "    #if ( break_ ):\n",
    "     #   break\n",
    "\n",
    "    for response_part in data:\n",
    "        if isinstance(response_part, tuple):\n",
    "            msg = email.message_from_string(response_part[1].decode('utf-8'))\n",
    "            varSubject = msg['subject']\n",
    "            varDate = msg['date']\n",
    "            #print(msg)\n",
    "    #if ( msg_cnt == 10 ):\n",
    "     #    break_ = True\n",
    "            \n",
    "    if varSubject == 'test':\n",
    "        my_msg=[]#has to be commented later.\n",
    "        r, d = m.fetch(emailid, \"(UID BODY[TEXT])\")\n",
    "        ymd = email.utils.parsedate(varDate)[0:3]\n",
    "        my_msg.append([ email.message_from_string(d[0][1].decode('utf-8')) , ymd ])\n",
    "        msg_cnt += 1\n",
    "        print(\"VAMSI MSG:\",my_msg)\n",
    "        \n",
    "        for msg in my_msg:\n",
    "            data = str(msg[0]).split(\"\\n\")\n",
    "            \n",
    "            for msg in my_msg:\n",
    "    \n",
    "                data = str(msg[0]).split(\"\\n\")\n",
    "                cnt+=1\n",
    "                for c in [k.split(\"\\r\")[0] for k in data[2:-2]]: \n",
    "                    print(c)"
   ]
  },
  {
   "cell_type": "code",
   "execution_count": 25,
   "metadata": {},
   "outputs": [
    {
     "name": "stdout",
     "output_type": "stream",
     "text": [
      "3\n"
     ]
    }
   ],
   "source": [
    "print(msg_cnt)"
   ]
  }
 ],
 "metadata": {
  "kernelspec": {
   "display_name": "Python 3",
   "language": "python",
   "name": "python3"
  },
  "language_info": {
   "codemirror_mode": {
    "name": "ipython",
    "version": 3
   },
   "file_extension": ".py",
   "mimetype": "text/x-python",
   "name": "python",
   "nbconvert_exporter": "python",
   "pygments_lexer": "ipython3",
   "version": "3.6.3rc1"
  }
 },
 "nbformat": 4,
 "nbformat_minor": 2
}
