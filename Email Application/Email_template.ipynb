{
 "cells": [
  {
   "cell_type": "code",
   "execution_count": 1,
   "metadata": {},
   "outputs": [],
   "source": [
    "def send_email(body, subject, recipient, auto=True):\n",
    "    import win32com.client as win32   \n",
    "\n",
    "    outlook = win32.Dispatch('outlook.application')\n",
    "    mail = outlook.CreateItem(0)\n",
    "    mail.To = recipient\n",
    "    mail.Subject = subject\n",
    "    mail.HtmlBody = body\n",
    "    \n",
    "    #mail.CC = \"more email addresses here\"\n",
    "    #mail.BCC = \"more email addresses here\"\n",
    "    \n",
    "    #attachment1 = os.getcwd() +\"\\\\file.ini\"\n",
    "    #mail.Attachments.Add(attachment1)\n",
    "    if auto:\n",
    "        mail.display()\n",
    "    else:\n",
    "        mail.open # or whatever the correct code is\n"
   ]
  },
  {
   "cell_type": "code",
   "execution_count": null,
   "metadata": {},
   "outputs": [],
   "source": [
    "send_email(\"Ignore previous mail as it was sent from python just like this\",\"Test Subject 2\",\"VV00489856@TechMahindra.com ; VK00489900@techmahindra.com\")"
   ]
  }
 ],
 "metadata": {
  "kernelspec": {
   "display_name": "Python 3",
   "language": "python",
   "name": "python3"
  },
  "language_info": {
   "codemirror_mode": {
    "name": "ipython",
    "version": 3
   },
   "file_extension": ".py",
   "mimetype": "text/x-python",
   "name": "python",
   "nbconvert_exporter": "python",
   "pygments_lexer": "ipython3",
   "version": "3.8.3"
  }
 },
 "nbformat": 4,
 "nbformat_minor": 4
}
