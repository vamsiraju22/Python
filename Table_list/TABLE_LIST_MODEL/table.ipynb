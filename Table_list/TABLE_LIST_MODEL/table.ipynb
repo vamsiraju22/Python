{
 "cells": [
  {
   "cell_type": "code",
   "execution_count": 1,
   "metadata": {},
   "outputs": [
    {
     "name": "stdout",
     "output_type": "stream",
     "text": [
      "Execution Started\n",
      "start_time 2020-09-13 00:38:19.198895\n",
      "List of Table Extarcted from Below ETL\n",
      "wf_ACTIVATE_FDRR\n",
      "Table list is written to target file ie Output folder\n",
      "end_time 2020-09-13 00:38:22.560155\n",
      "0:00:03.361260\n"
     ]
    }
   ],
   "source": [
    "# Python Script for Listing table  \n",
    "\n",
    "# If you get any packge error , please install below package through command prompt\n",
    "# pip install pandas\n",
    "# \n",
    "# ---------------------------------------------------------- Program Start --------------------------------- \n",
    "import glob\n",
    "import os\n",
    "#import xlrd \n",
    "import re\n",
    "import pandas as pd\n",
    "import datetime\n",
    "\n",
    "print(\"Execution Started\")\n",
    "start = datetime.datetime.now()\n",
    "print(\"start_time\",start)\n",
    "\n",
    "currentDir=os.getcwd()       # getting current directory path\n",
    "Source_path = os.path.join(currentDir,\"Input\\*\")  # Source path to iterate all files\n",
    "Target_folder = os.path.join(currentDir,\"Output\") # Target path to save the modified file  \n",
    "\n",
    "Outputpath = \"Output\" + \"\\\\\"+\"TABLE_LIST.xlsx\"     # output path with corresponding file name\n",
    "Target_path = os.path.join(currentDir,Outputpath)\n",
    "\n",
    "writer = pd.ExcelWriter(Target_path, engine='xlsxwriter')\n",
    "\n",
    "df1 = pd.DataFrame()  # Creating empty dataframe \n",
    "try:\n",
    " os.mkdir(Target_folder)   # Creating target folder if doesnt exist .\n",
    "except:\n",
    " pass\n",
    "\n",
    "print(\"List of Table Extarcted from Below ETL\")\n",
    "for x in glob.glob(Source_path):      # Iterating over files , such as .txt,.xml,.sql and any extension file\n",
    "  file_name = os.path.split(x)    # spilt into (header,tail) ie. (path and lastname of path)\n",
    "  ETL_NAME = re.sub(r'\\.\\w+',\"\",file_name[1])   # Extracting ETL_NAME\n",
    "  #path_name = file_name[1].replace('.xml','new_name.xml') # to modify the filename\n",
    "  #path_data = os.path.abspath(x)\n",
    "  \n",
    "# read the file and store it in variable \n",
    "  with open(x) as f:\n",
    "   newText_df = f.read()\n",
    "   \n",
    "  list_table1 = re.findall(r'\\$\\$\\w+\\.\\w+',newText_df) # TD table \n",
    "  list_table2 = re.findall(r'\\$\\$\\w+\\.\\W+\\w+',newText_df) # TD table \n",
    "  list_table1.extend(list_table2)\n",
    "  list_table = list(dict.fromkeys(list_table1))\n",
    "  #list_table = re.findall(r'\\w+\\.\\w+',newText_df)\n",
    "  #list_table = re.findall(r'\\$\\$\\w+\\.\\$\\$\\w+\\.\\w+',newText_df)   # SF all table  \n",
    "  set_table = set(list_table)   # removing duplicates\n",
    "  x1 = [i.split(\".\") for i in set_table]     # creating list of dabasename and table name \n",
    "  df_set = pd.DataFrame(x1,columns = [\"DBNAME\",\"TABLE_NAME\"])\n",
    "  df_set.insert(0, \"ETL_NAME\",ETL_NAME, True)\n",
    "  df1 = pd.concat([df1,df_set])\n",
    "  print(ETL_NAME)\n",
    "  \n",
    "\n",
    "   \n",
    "sheet1_name = \"LIST_TABLES\"\n",
    "# write it in newfile and saving in target folder \n",
    "df1.to_excel(writer, sheet_name=sheet1_name,index = False)\n",
    "writer.save()\n",
    "print('Table list is written to target file ie Output folder')  \n",
    "\n",
    "end = datetime.datetime.now()\n",
    "print(\"end_time\",end)\n",
    "print(end - start)\n",
    "\n",
    "# ------------------------------------------------- Thank You ---------------------------------------------\n"
   ]
  }
 ],
 "metadata": {
  "kernelspec": {
   "display_name": "Python 3",
   "language": "python",
   "name": "python3"
  },
  "language_info": {
   "codemirror_mode": {
    "name": "ipython",
    "version": 3
   },
   "file_extension": ".py",
   "mimetype": "text/x-python",
   "name": "python",
   "nbconvert_exporter": "python",
   "pygments_lexer": "ipython3",
   "version": "3.7.6"
  }
 },
 "nbformat": 4,
 "nbformat_minor": 4
}
