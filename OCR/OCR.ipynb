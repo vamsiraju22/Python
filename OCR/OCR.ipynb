{
 "cells": [
  {
   "cell_type": "code",
   "execution_count": 17,
   "metadata": {},
   "outputs": [
    {
     "name": "stdout",
     "output_type": "stream",
     "text": [
      "Please enter the image name with file type. eg: test.png: \n",
      " test.png\n",
      "importpytesseractfrompytesseractimportpytesseractimportPILfromPILimportImageimportcv2importcsvpytesseract.tesseract_cmd=r’C:\\Users\\VK@0489900\\AppData\\Local\\Tesseract-OCR\\tesseract.exe’\n"
     ]
    }
   ],
   "source": [
    "#Reading characters from an image using OCR\n",
    "\n",
    "import pytesseract\n",
    "from pytesseract import pytesseract\n",
    "import PIL\n",
    "from PIL import Image\n",
    "import cv2\n",
    "import csv\n",
    "pytesseract.tesseract_cmd = r'C:\\Users\\VK00489900\\AppData\\Local\\Tesseract-OCR\\tesseract.exe'\n",
    "\n",
    "img = input(\"Please enter the image name with file type. And make sure your image exists in the current folder. eg: test.png: \\n \")\n",
    "imge = Image.open(img)\n",
    "data=pytesseract.image_to_boxes(imge)\n",
    "\n",
    "#print(data)\n",
    "count=0\n",
    "final=\"\"\n",
    "for ind,i in enumerate(data):\n",
    "    if count==0:\n",
    "        #print(data[0],end='')\n",
    "        \n",
    "        final+=data[0]\n",
    "        count+=1\n",
    "        \n",
    "    try:\n",
    "        if i ==\"\\n\":\n",
    "            #print(data[ind+1],end='')\n",
    "            final+=data[ind+1]\n",
    "            \n",
    "    except:\n",
    "        pass\n",
    "print(final)    "
   ]
  },
  {
   "cell_type": "code",
   "execution_count": null,
   "metadata": {},
   "outputs": [],
   "source": []
  }
 ],
 "metadata": {
  "kernelspec": {
   "display_name": "Python 3",
   "language": "python",
   "name": "python3"
  },
  "language_info": {
   "codemirror_mode": {
    "name": "ipython",
    "version": 3
   },
   "file_extension": ".py",
   "mimetype": "text/x-python",
   "name": "python",
   "nbconvert_exporter": "python",
   "pygments_lexer": "ipython3",
   "version": "3.8.3"
  }
 },
 "nbformat": 4,
 "nbformat_minor": 4
}
