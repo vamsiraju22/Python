{
 "cells": [
  {
   "cell_type": "code",
   "execution_count": 31,
   "metadata": {
    "scrolled": false
   },
   "outputs": [
    {
     "name": "stdout",
     "output_type": "stream",
     "text": [
      "Enter a value 50\n",
      "Output =  27\n"
     ]
    }
   ],
   "source": [
    "def max_check(m):\n",
    "    val_list={'0'}\n",
    "    count=0\n",
    "    def check_even(v):\n",
    "        if (v%2)==0:\n",
    "            value=v/2\n",
    "            val_list.add(value)\n",
    "            #print(value,end=' ')    \n",
    "            check_odd(value)\n",
    "            if ((value%2)==0) and value!=1:\n",
    "                check_even(value)\n",
    "        if v==1:\n",
    "            check_odd(value)  \n",
    "        return(count)\n",
    "                           \n",
    "    def check_odd(v):\n",
    "        if v!=1 and (v%2)!=0:\n",
    "            value=3*v+1\n",
    "            #print(value,end=' ')\n",
    "            val_list.add(value)\n",
    "            check_even(value)\n",
    "            return(count)\n",
    "    \n",
    "    def check(v):\n",
    "        count=0\n",
    "        if v%2==0:\n",
    "            check_even(v)\n",
    "        else:\n",
    "            check_odd(v)\n",
    "        return(len(set(val_list)))\n",
    "    max_val=0\n",
    "    max=check(1)\n",
    "    for i in range(1,m):\n",
    "        #print(\"val of i\",i,\" len\",check(i))\n",
    "        if check(i)>max:\n",
    "            max=check(i)\n",
    "            max_val=i\n",
    "        val_list={'0'}\n",
    "    return(max_val)\n",
    "m=int(input(\"Enter a value \"))\n",
    "print(\"Output = \",max_check(m))"
   ]
  },
  {
   "cell_type": "code",
   "execution_count": null,
   "metadata": {},
   "outputs": [],
   "source": [
    "if he inputs 5\n",
    "1 -->1\n",
    "2-->1\n",
    "3 --> 10 5 16 8 4 2 1\n",
    "4-->2 1\n",
    "5--> 16 8 4 2 1\n",
    "so he should choose 3 as it has max no of values.\n"
   ]
  },
  {
   "cell_type": "code",
   "execution_count": null,
   "metadata": {},
   "outputs": [],
   "source": [
    "for i in range(0,max):\n",
    "    if val%2==0:\n",
    "        val=val/2\n",
    "        dic[i]=val\n",
    "    else:\n",
    "        val=3*val+1\n",
    "        dic[i]=val\n",
    "        if val%2==0:\n",
    "            val=val/2\n",
    "        else:\n",
    "            val=3*val+1"
   ]
  }
 ],
 "metadata": {
  "kernelspec": {
   "display_name": "Python 3",
   "language": "python",
   "name": "python3"
  },
  "language_info": {
   "codemirror_mode": {
    "name": "ipython",
    "version": 3
   },
   "file_extension": ".py",
   "mimetype": "text/x-python",
   "name": "python",
   "nbconvert_exporter": "python",
   "pygments_lexer": "ipython3",
   "version": "3.8.3"
  }
 },
 "nbformat": 4,
 "nbformat_minor": 4
}
