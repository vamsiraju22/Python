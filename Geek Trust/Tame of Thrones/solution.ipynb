{
 "cells": [
  {
   "cell_type": "code",
   "execution_count": 93,
   "metadata": {},
   "outputs": [
    {
     "name": "stdout",
     "output_type": "stream",
     "text": [
      "None\n"
     ]
    }
   ],
   "source": [
    "ruler='SPACE '\n",
    "\n",
    "def decrypt(text,shift): \n",
    "    result = \"\" \n",
    "    shift = 26-shift\n",
    "    # traverse text \n",
    "    for i in range(len(text)): \n",
    "        char = text[i] \n",
    "\n",
    "        # Encrypt uppercase characters \n",
    "        if (char.isupper()): \n",
    "            result += chr((ord(char) + shift-65) % 26 + 65) \n",
    "\n",
    "        # Encrypt lowercase characters \n",
    "        else: \n",
    "            result += chr((ord(char) + shift - 97) % 26 + 97) \n",
    "    return(result) \n",
    "\n",
    "\n",
    "def get_res(kingdom,text):\n",
    "\n",
    "    kingdom_emblem_dic = {'SPACE':'GORILLA', 'LAND':'PANDA', 'WATER':'OCTOPUS', 'ICE':'MAMMOTH', 'AIR':'OWL', 'FIRE':'DRAGON' }\n",
    "    emblem_len_list = [len(kingdom_emblem_dic[i]) for i in kingdom_emblem_dic.keys()]\n",
    "    kingdom_list = [i for i in kingdom_emblem_dic.keys()]\n",
    "    kingdom_emblem_len_dic = dict(zip(kingdom_list,emblem_len_list))\n",
    "    \n",
    "    for i in kingdom_emblem_len_dic.keys():\n",
    "        if i == kingdom:\n",
    "            res = decrypt(text,kingdom_emblem_len_dic[i])\n",
    "            unique_res = list(set(res))\n",
    "            unique_kingdom=list(set(kingdom_emblem_dic[i]))\n",
    "            \n",
    "            for k_ind,k in enumerate(unique_res):\n",
    "                for j_ind,j in enumerate(unique_kingdom):\n",
    "                    if k==j:\n",
    "                        unique_kingdom.pop(j_ind)\n",
    "            if len(unique_kingdom)==0:\n",
    "                return(kingdom)\n",
    "            \n",
    "                \n",
    "input1=open('input2.txt','r')\n",
    "lines=input1.readlines()\n",
    "output=[]\n",
    "for i in lines:\n",
    "    input1_list=i.split(' ')\n",
    "    kingdom=input1_list[0]\n",
    "    text=input1_list[1]\n",
    "    output.append(get_res(kingdom,text))\n",
    "\n",
    "result = list(filter(lambda x: x != None, output))\n",
    "if len(result)>=3:\n",
    "    output_file=ruler+\" \".join(result)\n",
    "    print(output_file)\n",
    "else:\n",
    "    output_file=\"None\"\n",
    "    print(output_file)    "
   ]
  },
  {
   "cell_type": "code",
   "execution_count": null,
   "metadata": {},
   "outputs": [],
   "source": []
  },
  {
   "cell_type": "code",
   "execution_count": null,
   "metadata": {},
   "outputs": [],
   "source": []
  },
  {
   "cell_type": "code",
   "execution_count": null,
   "metadata": {},
   "outputs": [],
   "source": []
  }
 ],
 "metadata": {
  "kernelspec": {
   "display_name": "Python 3",
   "language": "python",
   "name": "python3"
  },
  "language_info": {
   "codemirror_mode": {
    "name": "ipython",
    "version": 3
   },
   "file_extension": ".py",
   "mimetype": "text/x-python",
   "name": "python",
   "nbconvert_exporter": "python",
   "pygments_lexer": "ipython3",
   "version": "3.8.3"
  }
 },
 "nbformat": 4,
 "nbformat_minor": 4
}
