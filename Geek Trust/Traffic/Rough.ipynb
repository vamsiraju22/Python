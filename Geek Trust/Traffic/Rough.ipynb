{
 "cells": [
  {
   "cell_type": "code",
   "execution_count": 1,
   "metadata": {},
   "outputs": [
    {
     "name": "stdout",
     "output_type": "stream",
     "text": [
      "[('one', 1), ('two', 2), ('three', 3), ('four', 4), ('five', 5)]\n"
     ]
    }
   ],
   "source": [
    "d = {'one':1,'three':3,'five':5,'two':2,'four':4}\n",
    "a = sorted(d.items(), key=lambda x: x[1])    \n",
    "print(a)"
   ]
  },
  {
   "cell_type": "code",
   "execution_count": 10,
   "metadata": {},
   "outputs": [
    {
     "name": "stdout",
     "output_type": "stream",
     "text": [
      "Ajith\n",
      "Andhra\n",
      "1234\n"
     ]
    }
   ],
   "source": [
    "# In Object Oriented Approach, it is possible to have relationships between classes. \n",
    "# When an object of a class becomes the instance variable of another class, it is known as \"has-a\" relationship or AGGREGATION.\n",
    "# If ClassA 'has-a' ClassB, then ClassB aggregates ClassA\n",
    "class Employee:\n",
    "    def __init__(self,name,emp_id,contact):\n",
    "        self.name=name\n",
    "        self.emp_id=emp_id\n",
    "        self.contact=contact # this is where the instance variable of Contact class is getting created.\n",
    "\n",
    "class Contact:\n",
    "    def __init__(self,address,mobile_no):\n",
    "        self.address=address\n",
    "        self.mobile_no=mobile_no\n",
    "\n",
    "cntct1 = Contact(\"Karnataka\", 1234)\n",
    "cntct2 = Contact(\"Andhra\", 1234)\n",
    "\n",
    "emp1=Employee(\"Ajith\",44,cntct1)\n",
    "emp2=Employee(\"Raj\",28,cntct2)\n",
    "\n",
    "print(emp1.name)\n",
    "emp2_contact=emp2.contact\n",
    "print(emp2_contact.address)\n",
    "print(emp2.contact.mobile_no)"
   ]
  },
  {
   "cell_type": "code",
   "execution_count": 22,
   "metadata": {},
   "outputs": [],
   "source": [
    "class Vehicle(Orbit):\n",
    "     def __init__(self, vehicle):\n",
    "        \n",
    "        if vehicle == 'CAR':\n",
    "            self.speed = 20\n",
    "            self.crater_time = 3/60\n",
    "            \n",
    "        elif vehicle == 'BIKE':\n",
    "            self.speed = 10\n",
    "            self.crater_time = 2/60\n",
    "        \n",
    "        elif vehicle == 'TUKTUK':\n",
    "            self.speed = 12\n",
    "            self.crater_time = 1/60\n",
    "            \n",
    "\n",
    "class Weather:\n",
    "    def __init__(self,weather):\n",
    "        self.weather = weather\n",
    "    \n",
    "        if self.weather == 'SUNNY':\n",
    "            self.craters_rate = -10\n",
    "            self.available_vehicles = ['CAR','BIKE','TUKTUK']\n",
    "        \n",
    "        elif self.weather == 'RAINY':\n",
    "            self.craters_rate = 20\n",
    "            self.available_vehicles = ['CAR','TUKTUK']\n",
    "        \n",
    "        elif self.weather == 'WINDY':\n",
    "            self.craters_rate = 0\n",
    "            self.available_vehicles = ['CAR','BIKE']\n",
    "        else:\n",
    "            print(\"Please check your weather input\")\n",
    "            \n",
    "        result = car.orbit.distance/car.speed + (car.orbit.no_of_craters*(100+sunny.craters_rate)*(car.crater_time/60))/100\n",
    "        return(result)\n",
    "\n",
    "class Orbit:\n",
    "    def __init__(self,orbit):\n",
    "        \n",
    "        if orbit == 'ORBIT1':\n",
    "            \n",
    "            self.distance = 18\n",
    "            self.no_of_craters = 20\n",
    "        \n",
    "        elif orbit == 'ORBIT2':\n",
    "            \n",
    "            self.distance = 20\n",
    "            self.no_of_craters = 10\n",
    "   \n",
    "\n"
   ]
  },
  {
   "cell_type": "code",
   "execution_count": null,
   "metadata": {},
   "outputs": [],
   "source": [
    "Result = car.orbit.distance/car.speed + (car.orbit.no_of_craters*(100+sunny.craters_rate)*(car.crater_time/60))/100\n"
   ]
  },
  {
   "cell_type": "code",
   "execution_count": 17,
   "metadata": {},
   "outputs": [
    {
     "data": {
      "text/plain": [
       "[<__main__.Orbit at 0x28ce44dc820>, <__main__.Orbit at 0x28ce44dc730>]"
      ]
     },
     "execution_count": 17,
     "metadata": {},
     "output_type": "execute_result"
    }
   ],
   "source": [
    "#map(lambda obj: obj.method(), objectlist)\n",
    "\n",
    "orbit1 = Orbit('ORBIT1')\n",
    "orbit2 = Orbit('ORBIT2')\n",
    "\n",
    "car = Vehicle(20,3,orbit1)\n"
   ]
  },
  {
   "cell_type": "code",
   "execution_count": 16,
   "metadata": {},
   "outputs": [
    {
     "data": {
      "text/plain": [
       "1.8"
      ]
     },
     "execution_count": 16,
     "metadata": {},
     "output_type": "execute_result"
    }
   ],
   "source": [
    "sunny= Weather('SUNNY')\n",
    "Result = car.orbit.distance/car.speed + (car.orbit.no_of_craters*(100+sunny.craters_rate)*(car.crater_time/60))/100\n"
   ]
  },
  {
   "cell_type": "code",
   "execution_count": null,
   "metadata": {},
   "outputs": [],
   "source": [
    "car.orbit.distanc"
   ]
  }
 ],
 "metadata": {
  "kernelspec": {
   "display_name": "Python 3",
   "language": "python",
   "name": "python3"
  },
  "language_info": {
   "codemirror_mode": {
    "name": "ipython",
    "version": 3
   },
   "file_extension": ".py",
   "mimetype": "text/x-python",
   "name": "python",
   "nbconvert_exporter": "python",
   "pygments_lexer": "ipython3",
   "version": "3.8.3"
  }
 },
 "nbformat": 4,
 "nbformat_minor": 4
}
