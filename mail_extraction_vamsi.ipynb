{
 "cells": [
  {
   "cell_type": "code",
   "execution_count": 32,
   "metadata": {},
   "outputs": [
    {
     "name": "stdout",
     "output_type": "stream",
     "text": [
      "Enter your GMail username --> vkadimis\n",
      "Enter your password --> ········\n"
     ]
    }
   ],
   "source": [
    "import email, getpass, imaplib, os, re\n",
    "import matplotlib.pyplot as plt\n",
    "\n",
    "detach_dir = \"F:\\OTHERS\\CS\\PYTHONPROJECTS\"  \n",
    "user = input(\"Enter your GMail username --> \")\n",
    "pwd = getpass.getpass(\"Enter your password --> \")"
   ]
  },
  {
   "cell_type": "code",
   "execution_count": 33,
   "metadata": {},
   "outputs": [
    {
     "data": {
      "text/plain": [
       "('OK', [b'vkadimis@gmail.com authenticated (Success)'])"
      ]
     },
     "execution_count": 33,
     "metadata": {},
     "output_type": "execute_result"
    }
   ],
   "source": [
    "m = imaplib.IMAP4_SSL(\"imap.gmail.com\")\n",
    "m.login(user, pwd)\n"
   ]
  },
  {
   "cell_type": "code",
   "execution_count": 34,
   "metadata": {},
   "outputs": [],
   "source": [
    "m.select()\n",
    "resp, items = m.search(None, '(FROM \"raj.vamsi59@gmail.com\")')\n",
    "resp  = m.search(None, 'ALL')\n",
    "items = items[0].split()  \n",
    "\n",
    "my_msg = [] # store relevant msgs here in please\n",
    "msg_cnt = 0\n",
    "#print(m.search(None, '(FROM \"raj.vamsi59@gmail.com\")'))\n"
   ]
  },
  {
   "cell_type": "code",
   "execution_count": 31,
   "metadata": {},
   "outputs": [
    {
     "name": "stdout",
     "output_type": "stream",
     "text": [
      "\n",
      "This is a second mail.\n",
      "I am trying to modify my code further.\n",
      "\n",
      "Regards,\n",
      "Vamsi.\n",
      "\n",
      "This is to test.\n",
      "\n",
      "Regards,\n",
      "Vamsi.\n",
      "\n",
      "['', 'This is a second mail.', 'I am trying to modify my code further.', '', 'Regards,', 'Vamsi.', '', 'This is to test.', '', 'Regards,', 'Vamsi.', '']\n"
     ]
    }
   ],
   "source": [
    "cnt=0\n",
    "message=[]\n",
    "for emailid in items[::-1]:\n",
    "\n",
    "    resp, data = m.fetch(emailid, \"(RFC822)\")\n",
    "\n",
    "    #if ( break_ ):\n",
    "     #   break\n",
    "\n",
    "    for response_part in data:\n",
    "        if isinstance(response_part, tuple):\n",
    "            msg = email.message_from_string(response_part[1].decode('utf-8'))\n",
    "            varSubject = msg['subject']\n",
    "            varDate = msg['date']\n",
    "            #print(msg)\n",
    "    #if ( msg_cnt == 10 ):\n",
    "     #    break_ = True\n",
    "            \n",
    "    if varSubject == 'test':\n",
    "        my_msg=[]#has to be commented later.\n",
    "        r, d = m.fetch(emailid, \"(UID BODY[TEXT])\")\n",
    "        ymd = email.utils.parsedate(varDate)[0:3]\n",
    "        my_msg.append([ email.message_from_string(d[0][1].decode('utf-8')) , ymd ])\n",
    "        msg_cnt += 1\n",
    "#        print(\"VAMSI MSG:\",my_msg)\n",
    "        \n",
    "        for msg in my_msg:\n",
    "            data = str(msg[0]).split(\"\\n\")\n",
    "            \n",
    "            for msg in my_msg:\n",
    "    \n",
    "                data = str(msg[0]).split(\"\\n\")\n",
    "                cnt+=1\n",
    "                for index,c in enumerate([k.split(\"\\r\")[0] for k in data[2:-2]]): \n",
    "                    if index>2 and index <9: #re.search(\"UTF\",c):\n",
    "                        print(c)\n",
    "                        message.append(c)\n",
    "print(message)"
   ]
  }
 ],
 "metadata": {
  "kernelspec": {
   "display_name": "Python 3",
   "language": "python",
   "name": "python3"
  },
  "language_info": {
   "codemirror_mode": {
    "name": "ipython",
    "version": 3
   },
   "file_extension": ".py",
   "mimetype": "text/x-python",
   "name": "python",
   "nbconvert_exporter": "python",
   "pygments_lexer": "ipython3",
   "version": "3.6.3rc1"
  }
 },
 "nbformat": 4,
 "nbformat_minor": 2
}
